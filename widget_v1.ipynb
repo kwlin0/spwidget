{
 "cells": [
  {
   "cell_type": "markdown",
   "id": "52e7ea05",
   "metadata": {},
   "source": [
    "# Star Formation History and Colors\n",
    "\n",
    "Notes: \n",
    "\n",
    "Execute the following two cells to display the widget. Depending on performance, there may be lag if sliding parameters too quickly. An alternative is to simply click on the number and type it in. The arguments in `show_plots` is optional."
   ]
  },
  {
   "cell_type": "code",
   "execution_count": 1,
   "id": "87210a52",
   "metadata": {
    "scrolled": true
   },
   "outputs": [
    {
     "name": "stderr",
     "output_type": "stream",
     "text": [
      "/Users/klin/anaconda/lib/python3.6/site-packages/dask/config.py:168: YAMLLoadWarning: calling yaml.load() without Loader=... is deprecated, as the default Loader is unsafe. Please read https://msg.pyyaml.org/load for full details.\n",
      "  data = yaml.load(f.read()) or {}\n"
     ]
    }
   ],
   "source": [
    "from sfhwidget import *"
   ]
  },
  {
   "cell_type": "code",
   "execution_count": 2,
   "id": "08029a28",
   "metadata": {},
   "outputs": [
    {
     "data": {
      "application/vnd.jupyter.widget-view+json": {
       "model_id": "c66a105cd23b44c0a9480156b9ea6073",
       "version_major": 2,
       "version_minor": 0
      },
      "text/plain": [
       "VBox(children=(FloatSlider(value=2.0, description='Tau', max=15.0, min=0.1), FloatSlider(value=-0.5, descripti…"
      ]
     },
     "metadata": {},
     "output_type": "display_data"
    }
   ],
   "source": [
    "show_plots(tau=2.0, logzsol=-0.5)"
   ]
  }
 ],
 "metadata": {
  "@webio": {
   "lastCommId": null,
   "lastKernelId": null
  },
  "kernelspec": {
   "display_name": "Python 3",
   "language": "python",
   "name": "python3"
  },
  "language_info": {
   "codemirror_mode": {
    "name": "ipython",
    "version": 3
   },
   "file_extension": ".py",
   "mimetype": "text/x-python",
   "name": "python",
   "nbconvert_exporter": "python",
   "pygments_lexer": "ipython3",
   "version": "3.6.10"
  }
 },
 "nbformat": 4,
 "nbformat_minor": 5
}
